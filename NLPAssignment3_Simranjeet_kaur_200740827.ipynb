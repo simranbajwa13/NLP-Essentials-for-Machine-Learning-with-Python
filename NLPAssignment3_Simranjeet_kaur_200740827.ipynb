{
  "nbformat": 4,
  "nbformat_minor": 0,
  "metadata": {
    "colab": {
      "provenance": [],
      "include_colab_link": true
    },
    "kernelspec": {
      "display_name": "Python 3",
      "language": "python",
      "name": "python3"
    },
    "language_info": {
      "codemirror_mode": {
        "name": "ipython",
        "version": 3
      },
      "file_extension": ".py",
      "mimetype": "text/x-python",
      "name": "python",
      "nbconvert_exporter": "python",
      "pygments_lexer": "ipython3",
      "version": "3.6.12"
    }
  },
  "cells": [
    {
      "cell_type": "markdown",
      "metadata": {
        "id": "view-in-github",
        "colab_type": "text"
      },
      "source": [
        "<a href=\"https://colab.research.google.com/github/simranbajwa13/NLP-Essentials-for-Machine-Learning-with-Python/blob/main/NLPAssignment3_Simranjeet_kaur_200740827.ipynb\" target=\"_parent\"><img src=\"https://colab.research.google.com/assets/colab-badge.svg\" alt=\"Open In Colab\"/></a>"
      ]
    },
    {
      "cell_type": "markdown",
      "metadata": {
        "id": "64Eco7OJWUWl"
      },
      "source": [
        "# Introduction\n",
        "\n",
        "Version 1.3 20210712\n",
        "\n",
        "In this assignment we will use distributional semantics to investigate how some words in the English language changed over the course of the last two centuries. To do so, we will use two sections from the **Corpus of Historical American English (COHA)** - one with texts written between 1800 and 1840, and a contemporary one with texts written between 2000 and 2010. \n",
        "\n",
        "In distributional semantics, we use the context of a word to represent its meaning. In the first part of this assignment we will use simple bi-gram statistics to get a first feel for how words' co-occurrences can reflect their meaning, then move to two more refined sampling methods called **Continuous Bag of Words (CBOW)** and **SkipGram** which frequently used in developing distributional semantics models, and finally train a full **Word2Vec model** on the two corpora and investigate how certain words have developed over time by comparing their representations.\n",
        "\n",
        "You can download the COHA data for this assignment from here:\n",
        "\n",
        "https://drive.google.com/drive/folders/13Kzo666XmYLQv8VMjR8Xc_P6f0-mrlY_?usp=sharing\n",
        "\n",
        "**DISCLAIMER**: You are given permission to use the COHA data only for this assignment. You are not allowed to use the data for other projects, and you are not allowed to distribute it in any form. \n",
        "\n",
        "---\n",
        "\n",
        "FURTHER READING:\n",
        "\n",
        "*    Distributional Semantics and Linguistic Theory. Boleda, 2020\n"
      ]
    },
    {
      "cell_type": "markdown",
      "metadata": {
        "id": "Sf4pMkEeDsjA"
      },
      "source": [
        "# Q1 Word Co-occurrence Vectors \n",
        "\n",
        "To start off, we will calculate word co-occurrence statistics from a sample of the two portions of the COHA texts, and build word vectors based on the co-occurrence counts.\n"
      ]
    },
    {
      "cell_type": "markdown",
      "metadata": {
        "id": "5BxOvsWwXpX2"
      },
      "source": [
        "## Q1.1 Pre-processing \n",
        "\n",
        "First, complete the pre-processing function so that it returns a cleaned version as a list of sentences. Consider how different pre-processing steps will affect the co-occurrence statistics and report why you decide to include or exclude specific pre-processing steps.\n"
      ]
    },
    {
      "cell_type": "code",
      "metadata": {
        "id": "h-_H7FdCY9ca",
        "colab": {
          "base_uri": "https://localhost:8080/"
        },
        "outputId": "5d5cfdce-6bc3-46f6-d72b-71beabef9be9"
      },
      "source": [
        "import nltk\n",
        "from nltk import word_tokenize, sent_tokenize\n",
        "import string,re\n",
        "nltk.download('punkt')\n",
        "nltk.download('wordnet')\n",
        "nltk.download('stopwords')"
      ],
      "execution_count": null,
      "outputs": [
        {
          "output_type": "stream",
          "text": [
            "[nltk_data] Downloading package punkt to /root/nltk_data...\n",
            "[nltk_data]   Unzipping tokenizers/punkt.zip.\n",
            "[nltk_data] Downloading package wordnet to /root/nltk_data...\n",
            "[nltk_data]   Unzipping corpora/wordnet.zip.\n",
            "[nltk_data] Downloading package stopwords to /root/nltk_data...\n",
            "[nltk_data]   Unzipping corpora/stopwords.zip.\n"
          ],
          "name": "stdout"
        },
        {
          "output_type": "execute_result",
          "data": {
            "text/plain": [
              "True"
            ]
          },
          "metadata": {
            "tags": []
          },
          "execution_count": 1
        }
      ]
    },
    {
      "cell_type": "code",
      "metadata": {
        "id": "NulqX9IEZSxq"
      },
      "source": [
        "import time\n",
        "import pandas as pd\n",
        "import numpy as np\n",
        "from nltk.corpus import stopwords\n",
        "from sklearn.feature_extraction.text import CountVectorizer"
      ],
      "execution_count": null,
      "outputs": []
    },
    {
      "cell_type": "code",
      "metadata": {
        "id": "NNHiHyelY_-y"
      },
      "source": [
        "def load_sentences(file):\n",
        "    \"\"\"\n",
        "    Reads a COHA sample file and pre-processes it into a list of strings.\n",
        "    \"\"\"\n",
        "    sentences = []\n",
        "    with open(file) as f:\n",
        "        for line in f:\n",
        "            sentences.append(line)          \n",
        "    return sentences"
      ],
      "execution_count": null,
      "outputs": []
    },
    {
      "cell_type": "code",
      "metadata": {
        "id": "sgs79B2AZYeD"
      },
      "source": [
        "def preprocessing(corpus):\n",
        "    \"\"\"\n",
        "    Takes a collection of sentences and returns a cleaned version. \n",
        "    \n",
        "    Complete this function by applying techniques like tokenisation, \n",
        "    non-word filtering, stop-word removal and stemming to clean the input.\n",
        "    \n",
        "    :return : a list of strings containing cleaned sentences\n",
        "    :rtype : list(str)\n",
        "    \"\"\"\n",
        "    \n",
        "    clean_text = []\n",
        "    # TODO: Pre-process corpus and add cleaned sentences to clean_text\n",
        "    for words in corpus:\n",
        "      words=words.lower()\n",
        "      word_p = \"\".join([char for char in words if char not in string.punctuation])\n",
        "      words = word_tokenize(word_p)\n",
        "      stop_words = stopwords.words('english')\n",
        "      final_words = ' '.join([word for word in words if word not in stop_words])\n",
        "      clean_text.append(final_words)    \n",
        "    return clean_text\n",
        "\n",
        "   "
      ],
      "execution_count": null,
      "outputs": []
    },
    {
      "cell_type": "markdown",
      "metadata": {
        "id": "ciE45EOxDb3z"
      },
      "source": [
        "## Q1.2 Extracting co-occurrence counts \n",
        "\n",
        "Building a word co-occurrence matrix directly can cause memory usage problems: the target/context word matrix can have of the order of 100,000 rows and columns (the size of the observed vocabulary). One way to get round this is to use sparse matrices, which are memory- and computation-efficient - but they can be a bit complicated to work with if you're not used to them. Here, we will take a different approach: we'll use the existing CountVectorizer class to do the work for us (it uses sparse matrix libraries underneath). This means doing something slightly different from the standard approach described in lectures: instead of basing our co-occurrence counts on a sliding fixed-width window, we will be basing them on co-occurrence of words within the same sentence.\n",
        "\n"
      ]
    },
    {
      "cell_type": "code",
      "metadata": {
        "id": "arGLwzUIb0NB"
      },
      "source": [
        "def create_coo_matrix(data, vectorizer):\n",
        "    \"\"\"\n",
        "    Uses the specified vectorizer to create bi-gram co-occurence statistics \n",
        "    for the data.\n",
        "\n",
        "    Complete this function by applying the vectorizer to the corpus data to \n",
        "    create a co-occurrence matrix. Then transform the matrix into a symmetric \n",
        "    one by transposing and multiplying it, and set the diagonal to zero. \n",
        "\n",
        "    :return : a square matrix indicating bi-gram co-occurrence statistics\n",
        "    :rtype : pd.DataFrame\n",
        "    \"\"\"\n",
        "    start = time.time()\n",
        "\n",
        "    # TODO: Apply CountVectorizer to data, resulting in a word/sentence matrix\n",
        "    vector = vectorizer.fit_transform(data)\n",
        "    # TODO: Transpose matrix and multiply original by transpose, resulting in a word/word matrix\n",
        "    coo_matrix = (vector.T * vector)\n",
        "    # TODO: Set diagonal to zero\n",
        "    coo_matrix.setdiag(0)\n",
        "\n",
        "    # Extract the matrix' word index from the vectorizer\n",
        "    word_index = vectorizer.get_feature_names() \n",
        "    # Create an easy-to-read version of the matrix with pandas\n",
        "    coo_df = pd.DataFrame(data = coo_matrix.toarray(), columns = word_index, index = word_index)\n",
        "\n",
        "    end = time.time()    \n",
        "    print(\"Building the co-occurrence matrix took {} seconds.\".format(end - start)) \n",
        "    return coo_df"
      ],
      "execution_count": null,
      "outputs": []
    },
    {
      "cell_type": "code",
      "metadata": {
        "id": "DJpaSo5Ha7Kn"
      },
      "source": [
        "# Initialise the CountVectorizer\n",
        "vectorizer = CountVectorizer(ngram_range=(1,1), stop_words = 'english', min_df = 5)"
      ],
      "execution_count": null,
      "outputs": []
    },
    {
      "cell_type": "code",
      "metadata": {
        "id": "d1vkZI7-ZDcy",
        "colab": {
          "base_uri": "https://localhost:8080/"
        },
        "outputId": "c1b6fc4e-1b64-4318-87a4-e4cb1d0a7d96"
      },
      "source": [
        "# Load the sample of the 1800-1840 section of COHA\n",
        "sample_1800=load_sentences(\"/content/1800_sample.txt\")\n",
        "print(\"The sample contains {} sentences.\".format(len(sample_1800)))\n",
        "\n",
        "# Pre-process the data and establish a bi-gram co-occurence matrix with the CountVectorizer\n",
        "sample_1800_clean = preprocessing(sample_1800)\n",
        "coo_df_1800 = create_coo_matrix(sample_1800_clean, vectorizer)"
      ],
      "execution_count": null,
      "outputs": [
        {
          "output_type": "stream",
          "text": [
            "The sample contains 50000 sentences.\n",
            "Building the co-occurrence matrix took 1.5808653831481934 seconds.\n"
          ],
          "name": "stdout"
        }
      ]
    },
    {
      "cell_type": "code",
      "metadata": {
        "id": "Dfc03hLzeenb",
        "colab": {
          "base_uri": "https://localhost:8080/",
          "height": 35
        },
        "outputId": "a838f5b7-f950-4311-a942-dac9c3abf5a7"
      },
      "source": [
        "# Print the first sentence in the 1800-1840 section\n",
        "sample_1800_clean[0]"
      ],
      "execution_count": null,
      "outputs": [
        {
          "output_type": "execute_result",
          "data": {
            "application/vnd.google.colaboratory.intrinsic+json": {
              "type": "string"
            },
            "text/plain": [
              "'true principle conservatism'"
            ]
          },
          "metadata": {
            "tags": []
          },
          "execution_count": 14
        }
      ]
    },
    {
      "cell_type": "code",
      "metadata": {
        "id": "mDkatvJ6ZHvK",
        "colab": {
          "base_uri": "https://localhost:8080/"
        },
        "outputId": "da029115-49a4-4eb5-ba0f-12ae66e51cc2"
      },
      "source": [
        "# Load the sample of the 2000-2010 section of COHA\n",
        "sample_2000=load_sentences(\"/content/2000_sample.txt\")\n",
        "print(\"The sample contains {} sentences.\".format(len(sample_2000)))\n",
        "\n",
        "# Pre-process the data and establish a bi-gram co-occurence matrix with the CountVectorizer\n",
        "sample_2000_clean = preprocessing(sample_2000)\n",
        "coo_df_2000 = create_coo_matrix(sample_2000_clean, vectorizer)"
      ],
      "execution_count": null,
      "outputs": [
        {
          "output_type": "stream",
          "text": [
            "The sample contains 50000 sentences.\n",
            "Building the co-occurrence matrix took 1.3859777450561523 seconds.\n"
          ],
          "name": "stdout"
        }
      ]
    },
    {
      "cell_type": "code",
      "metadata": {
        "id": "eF2INJ3becIS",
        "colab": {
          "base_uri": "https://localhost:8080/",
          "height": 35
        },
        "outputId": "7b10b936-adae-4623-8340-08db9a7d566c"
      },
      "source": [
        "# Print the first sentence in the 2000-2010 section\n",
        "sample_2000_clean[0]"
      ],
      "execution_count": null,
      "outputs": [
        {
          "output_type": "execute_result",
          "data": {
            "application/vnd.google.colaboratory.intrinsic+json": {
              "type": "string"
            },
            "text/plain": [
              "'revenge randal reeserat chapter one elizabeth madrat loved warm tropical places midday african sun could take'"
            ]
          },
          "metadata": {
            "tags": []
          },
          "execution_count": 16
        }
      ]
    },
    {
      "cell_type": "markdown",
      "metadata": {
        "id": "Y6EDiQte6ksl"
      },
      "source": [
        "## Q1.3 Corpus Analysis\n",
        "\n",
        "Now that we have simple co-occurrence statistics, we can start investigating how words were used in the two different periods - and how this changed between the two periods in our data. \n",
        "\n",
        "We can do this in two ways: (a) examine the co-occurrence counts directly to analyse pairwise co-occurrence, and (b) use the rows of our co-occurrence matrix as word vectors, and examine the similarity between them.\n",
        "\n",
        "First, for method (a), extract the 15 words that co-occur most often with the word 'war' in the two co-occurrence matrices and report any iteresting findings. \n",
        "\n",
        "Next, for method (b), use cosine similarity to determine the similarity of the co-occurrence vectors of the words 'fight' and 'sword' first in the 1800-1840 section, and then in the 2000-2010 portion. Report what you observe.\n"
      ]
    },
    {
      "cell_type": "code",
      "metadata": {
        "id": "WAUo2GhSc9Ki",
        "colab": {
          "base_uri": "https://localhost:8080/"
        },
        "outputId": "25a63e76-4584-4c5a-be33-e576043a36e2"
      },
      "source": [
        "# TODO: Determine the 15 words that co-occur most often with 'war' in the 1800-1840 section\n",
        "a=coo_df_1800.nlargest(15,['war'])\n",
        "b=a.index\n",
        "print(np.array(b))"
      ],
      "execution_count": null,
      "outputs": [
        {
          "output_type": "stream",
          "text": [
            "['unk' '1kb' 'footnote' 'great' 'said' 'like' 'thy' 'life' 'close' 'men'\n",
            " 'old' 'arms' 'certain' 'far' 'state']\n"
          ],
          "name": "stdout"
        }
      ]
    },
    {
      "cell_type": "code",
      "metadata": {
        "id": "hH2KgLTteP6U",
        "colab": {
          "base_uri": "https://localhost:8080/"
        },
        "outputId": "4541edac-3cd6-4eb7-a895-30cd0aa9700d"
      },
      "source": [
        "# TODO: Determine the 15 words that co-occur most often with 'war' in the 2000-2010 section\n",
        "a=coo_df_2000.nlargest(15,['war'])\n",
        "b=a.index\n",
        "print(np.array(b))"
      ],
      "execution_count": null,
      "outputs": [
        {
          "output_type": "stream",
          "text": [
            "['world' 'unk' 'ii' 'intelligence' 'new' 'civil' 'cold' 'end' 'people'\n",
            " 'nt' 'time' 'american' 'years' 'medal' 'said']\n"
          ],
          "name": "stdout"
        }
      ]
    },
    {
      "cell_type": "code",
      "metadata": {
        "id": "4kPnPOOr9_vH",
        "colab": {
          "base_uri": "https://localhost:8080/"
        },
        "outputId": "bc4edd5f-a7b1-466d-c093-64ee756d692b"
      },
      "source": [
        "# TODO: Determine the cosine similarity between the words 'fight' and 'sword' in the 1800-1840 section\n",
        "import sklearn\n",
        "from scipy import spatial\n",
        "a = 1 - spatial.distance.cosine(coo_df_1800['fight'], coo_df_1800['sword'])\n",
        "print(a)"
      ],
      "execution_count": null,
      "outputs": [
        {
          "output_type": "stream",
          "text": [
            "0.628228553848703\n"
          ],
          "name": "stdout"
        }
      ]
    },
    {
      "cell_type": "code",
      "metadata": {
        "id": "_y1iL1RC6-ru",
        "colab": {
          "base_uri": "https://localhost:8080/"
        },
        "outputId": "f3ab36bd-8074-4468-e590-c48fe5ce90de"
      },
      "source": [
        "# TODO: Determine the cosine similarity between the words 'fight' and 'sword' in the 2000-2010 section\n",
        "a = 1 - spatial.distance.cosine(coo_df_2000['fight'], coo_df_2000['sword'])\n",
        "print(a)"
      ],
      "execution_count": null,
      "outputs": [
        {
          "output_type": "stream",
          "text": [
            "0.16258207305064132\n"
          ],
          "name": "stdout"
        }
      ]
    },
    {
      "cell_type": "code",
      "metadata": {
        "id": "kHOCpcqjNfXG",
        "colab": {
          "base_uri": "https://localhost:8080/"
        },
        "outputId": "b9951fd6-487d-4499-932d-6d13819e8c80"
      },
      "source": [
        "# OPTIONAL: Explore other words or word pairs that might be interesting to compare\n",
        "a = 1 - spatial.distance.cosine(coo_df_2000['war'], coo_df_2000['arrow'])\n",
        "d = 1 - spatial.distance.cosine(coo_df_2000['gun'], coo_df_2000['war'])\n",
        "print(a)\n",
        "print(d)"
      ],
      "execution_count": null,
      "outputs": [
        {
          "output_type": "stream",
          "text": [
            "0.10305792481113552\n",
            "0.2217732359137451\n"
          ],
          "name": "stdout"
        }
      ]
    },
    {
      "cell_type": "code",
      "metadata": {
        "colab": {
          "base_uri": "https://localhost:8080/"
        },
        "id": "tgPxjhxFPlqw",
        "outputId": "4f007a4a-8ec1-4b8b-8f2b-7fbf402d3e23"
      },
      "source": [
        "a = 1 - spatial.distance.cosine(coo_df_1800['war'], coo_df_1800['arrow'])\n",
        "print(a)"
      ],
      "execution_count": null,
      "outputs": [
        {
          "output_type": "stream",
          "text": [
            "0.37416293709987647\n"
          ],
          "name": "stdout"
        }
      ]
    },
    {
      "cell_type": "markdown",
      "metadata": {
        "id": "GiDsYs4tI0Z_"
      },
      "source": [
        "# Q2 Understanding Word2Vec Training \n",
        "\n",
        "Co-occurrence count vectors are a bit limited in how well they model word meaning and change, and it's more usual to use more advanced word-vectorization methods like Word2Vec. Word2Vec can use two different methods to specify or sample a target word's context: the Continuous Bag of Words (CBOW) and SkipGram models. In this part, you'll be tasked to implement these two approaches to understand how they sample and represent word co-occurrence in context.\n",
        "\n"
      ]
    },
    {
      "cell_type": "markdown",
      "metadata": {
        "id": "7YXegaZxj7Gw"
      },
      "source": [
        "## Q2.1 Continuous Bag of Words (CBOW) (5 marks)\n",
        "\n",
        "The first method is CBOW (Continuous Bag Of Words):\n"
      ]
    },
    {
      "cell_type": "markdown",
      "metadata": {
        "id": "pzSpgcYI3jVN"
      },
      "source": [
        "![cbow.png](data:image/png;base64,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)"
      ]
    },
    {
      "cell_type": "markdown",
      "metadata": {
        "id": "jiqlU5x-3m21"
      },
      "source": [
        "With CBOW, we use the left and right context of a target word to try to predict the target. To create training data for CBOW, we therefore have to create sliding context windows that collect a given number of previous and following words as context, and link those contexts to the targets. For this assignment, we'll use a window size of 2, so we'll look at the two words before and the two words after a word in the corpus and consider that to be its context. You do not need to add padding, but should skip words that don't have enough words to the left or to the right to fill the full context window.\n",
        "\n",
        "As an example, processing the sentence \"The quick brown fox jumped over the lazy dog\" should yield the following output:\n",
        "\n",
        "```\n",
        "[(['The', 'quick', 'fox', 'jumped'], 'brown'),\n",
        " (['quick', 'brown', 'jumped', 'over'], 'fox'),\n",
        " (['brown', 'fox', 'over', 'the'], 'jumped'),\n",
        " (['fox', 'jumped', 'the', 'lazy'], 'over'),\n",
        " (['jumped', 'over', 'lazy', 'dog'], 'the')]\n",
        "```\n",
        "The first part of each tuple is the context, which in our case is 4 words (2 left and 2 right), and the second entry is the target (which should go in the middle of the context). \n",
        "\n"
      ]
    },
    {
      "cell_type": "code",
      "metadata": {
        "id": "qLugmKQlj6hA"
      },
      "source": [
        "def create_cbow_dataset(data, window_size):\n",
        "    \"\"\"\n",
        "    Creates a dataset of CBOW contexts for a given corpus. The context size is \n",
        "    determined by window_size to the right and to the left of the target. \n",
        "\n",
        "    Complete this function by processing the data and adding words with their \n",
        "    corresponding contexts to the cbow_data list. You do not need to add padding,\n",
        "    but should skip words that don't have enough words to the left or to the \n",
        "    right to fill the full context window. Make sure that the output is a single \n",
        "    list of target-context pairs, and that they are not separated by sentence.\n",
        "\n",
        "    See the sample output in the next field as reference\n",
        "\n",
        "    :return : a list of tuples representing a context and it's target\n",
        "    :rtype : [(str, [str])]\n",
        "    \"\"\"\n",
        "    cbow_data = []    \n",
        "    # TODO: Process the data into target-context tuples using the specified window size\n",
        "    sent = str(data)\n",
        "    sent=sent.replace(\"[\",\"\")\n",
        "    sent=sent.replace(\"]\",\"\")\n",
        "    words=sent.split(\" \")\n",
        "    \n",
        "    for i in range(window_size,len(words)-window_size-1):\n",
        "      a=[]\n",
        "      a.append(words[i-2])\n",
        "      a.append(words[i-1])\n",
        "      a.append(words[i+1])\n",
        "      a.append(words[i+2])\n",
        "      b=(a,words[i])\n",
        "      cbow_data.append(b)            \n",
        "    return cbow_data"
      ],
      "execution_count": null,
      "outputs": []
    },
    {
      "cell_type": "code",
      "metadata": {
        "id": "q1d7UpZnRlW3",
        "colab": {
          "base_uri": "https://localhost:8080/"
        },
        "outputId": "2b73e2c7-aea5-4611-9811-a1b706139917"
      },
      "source": [
        "# CBOW Sample\n",
        "create_cbow_dataset([\"The quick brown fox jumped over the lazy dog\"], 2)"
      ],
      "execution_count": null,
      "outputs": [
        {
          "output_type": "execute_result",
          "data": {
            "text/plain": [
              "[([\"'The\", 'quick', 'fox', 'jumped'], 'brown'),\n",
              " (['quick', 'brown', 'jumped', 'over'], 'fox'),\n",
              " (['brown', 'fox', 'over', 'the'], 'jumped'),\n",
              " (['fox', 'jumped', 'the', 'lazy'], 'over')]"
            ]
          },
          "metadata": {
            "tags": []
          },
          "execution_count": 24
        }
      ]
    },
    {
      "cell_type": "markdown",
      "metadata": {
        "id": "N4WSbqdCT89E"
      },
      "source": [
        "Output should be:\n",
        "\n",
        "```\n",
        "[(['The', 'quick', 'fox', 'jumped'], 'brown'),\n",
        " (['quick', 'brown', 'jumped', 'over'], 'fox'),\n",
        " (['brown', 'fox', 'over', 'the'], 'jumped'),\n",
        " (['fox', 'jumped', 'the', 'lazy'], 'over'),\n",
        " (['jumped', 'over', 'lazy', 'dog'], 'the')]\n",
        "```\n",
        "\n"
      ]
    },
    {
      "cell_type": "markdown",
      "metadata": {
        "id": "s8cdeG8RqKxp"
      },
      "source": [
        "## Q2.2: Skip-Gram \n",
        "\n",
        "The second method is the Skip-Gram model:"
      ]
    },
    {
      "cell_type": "markdown",
      "metadata": {
        "id": "3f4mMlhs5dwS"
      },
      "source": [
        "![skip.png](data:image/png;base64,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)"
      ]
    },
    {
      "cell_type": "markdown",
      "metadata": {
        "id": "FI71Vq3R5gJW"
      },
      "source": [
        "With SkipGrams, we go the other way round: given a word, we want to predict its context. However, this is quite heavy on training, so we simplify the task a little: Given two words, determine whether they are neighbours (whithin the range of the window size) in the corpus. For this assignment, we'll again use a window size of 2, so we'll look at the two words before and the two words after a word in the corpus and consider that to be its context. You do not need to add padding, but should skip words that don't have enough words to the left or to the right to fill the full context window.\n",
        "\n",
        "Instead of adding the full context as training instance, in this case we create triplets containing the target, one of its context words, and a binary indicator to show that they are neighbours. So processing the sentence \"The quick brown fox jumped over the lazy dog\" should yield samples like\n",
        "\n",
        "```\n",
        "[('brown', 'The', 1),\n",
        " ('brown', 'quick', 1),\n",
        " ('brown', 'fox', 1),\n",
        " ('brown', 'jumped', 1),\n",
        " ('fox', 'quick', 1),\n",
        " ('fox', 'brown', 1),\n",
        " ...]\n",
        "```\n",
        "Besides adding these positive samples, we can further speed up training by adding negative samples. To create negative samples, we simply pick a number of random words from the corpus and asssign them a negative binary flag, e.g.\n",
        "\n",
        "```\n",
        "('brown', 'timer', 0)\n",
        "```\n",
        "For this assignment, we'll add the same number of negative samples as positive ones for each target, so there should be a total of 8 entries for each target word in the corpus. To make the negative samples more helpful, we also only want to use random words that appear at least 10 times in the corpus. You can again use the CountVectorizer to build this vocabulary.\n"
      ]
    },
    {
      "cell_type": "code",
      "metadata": {
        "id": "kI3zlKLTqZ4j"
      },
      "source": [
        "import random"
      ],
      "execution_count": null,
      "outputs": []
    },
    {
      "cell_type": "code",
      "metadata": {
        "id": "NVCwN9BTndlB"
      },
      "source": [
        "def create_skipgram_dataset(data, window_size):\n",
        "    \"\"\"\n",
        "    Creates a SkipGram dataset for a given corpus. The context size is \n",
        "    determined by window_size to the right and to the left of the target. \n",
        "\n",
        "    Complete this function establishing a vocabulary from the corpus, where \n",
        "    each word should appear at least 10 times. You can use the CountVectorizer \n",
        "    for this, too.\n",
        "    Then process sentences like your did for CBOW, but adding training samples\n",
        "    as triplets (target, context_word, flag). \n",
        "    Finally, add the same number of negative samples for each target word by \n",
        "    selecting random words from the vocabulary and adding them as negative \n",
        "    instances.\n",
        "\n",
        "    :return : a list of triplets representing a target, a context word, and a \n",
        "              binary flag indicating whether they are neighbours\n",
        "    :rtype : [(str, str, bool)]\n",
        "    \"\"\"\n",
        "    skip_data = []\n",
        "\n",
        "    # TODO: Build a vocabulary with a minimum occurrence threshold of 10\n",
        "\n",
        "    # TODO: Add positive samples for a target and its context words\n",
        "\n",
        "    # TODO: Add the same number of negative samples for each target. \n",
        "    # To implement the negative sampling, pick random words from the \n",
        "    # vocabulary you created. \n",
        "    v = CountVectorizer(min_df = 10)\n",
        "    v2=v.fit_transform(data)\n",
        "    words = v.get_feature_names()\n",
        "    sent = str(data)\n",
        "    sent=sent.replace(\"[\",\"\")\n",
        "    sent=sent.replace(\"]\",\"\")\n",
        "    sent=sent.replace(\"'\",\"\")\n",
        "    sent=sent.replace(\",\",\"\")\n",
        "    word=sent.split(\" \")\n",
        "    for x in range(window_size,len(word)-window_size):\n",
        "      a=word[x]\n",
        "      for y in range(x-window_size,x+window_size+1):\n",
        "        if y!=x:\n",
        "          b=(a,word[y],1)\n",
        "          skip_data.append(b)\n",
        "      for z in range(x-window_size,x+window_size+1):\n",
        "        if z!=x:\n",
        "          c=random.choice(words)\n",
        "          d=(a,c,0)\n",
        "          skip_data.append(d)\n",
        "    return skip_data"
      ],
      "execution_count": null,
      "outputs": []
    },
    {
      "cell_type": "code",
      "metadata": {
        "id": "P9lNGMo2qlGI",
        "colab": {
          "base_uri": "https://localhost:8080/"
        },
        "outputId": "d0e4ac1f-a7c0-41be-96bf-54e6d1b2b315"
      },
      "source": [
        "create_skipgram_dataset(sample_1800_clean, 2)[:8]"
      ],
      "execution_count": null,
      "outputs": [
        {
          "output_type": "execute_result",
          "data": {
            "text/plain": [
              "[('conservatism', 'true', 1),\n",
              " ('conservatism', 'principle', 1),\n",
              " ('conservatism', 'rather', 1),\n",
              " ('conservatism', 'principle', 1),\n",
              " ('conservatism', '1kb', 0),\n",
              " ('conservatism', 'existed', 0),\n",
              " ('conservatism', 'age', 0),\n",
              " ('conservatism', 'brains', 0)]"
            ]
          },
          "metadata": {
            "tags": []
          },
          "execution_count": 27
        }
      ]
    },
    {
      "cell_type": "markdown",
      "metadata": {
        "id": "a176y1fdZnht"
      },
      "source": [
        "Output should be similar to\n",
        "\n",
        "```\n",
        "[('conservatism', 'rather', 1),\n",
        " ('conservatism', 'principle', 1),\n",
        " ('conservatism', 'true', 1),\n",
        " ('conservatism', 'society', 1),\n",
        " ('conservatism', 'parts', 0),\n",
        " ('conservatism', 'struggling', 0),\n",
        " ('conservatism', 'smiling', 0),\n",
        " ('conservatism', 'intent', 0)]\n",
        "```\n",
        "\n"
      ]
    },
    {
      "cell_type": "markdown",
      "metadata": {
        "id": "Zhx6Oxp3ODCH"
      },
      "source": [
        "# Q3 Word2Vec \n",
        "\n",
        "Now that we know how to create the training data for distributional semantics tools, we'll use a pre-implemented version of Word2Vec (which usually uses SkipGram training) to speed things up a little. Word2Vec is still one of the most-used approaches to create static word embeddings - and we'll use it to learn word embeddings for the two different periods of the COHA data to get a better idea of how word meaning has changed over time. \n",
        "\n",
        "This time we provide you with the full code, and your job lies in investigating the results. \n"
      ]
    },
    {
      "cell_type": "markdown",
      "metadata": {
        "id": "FnBfP5Mcqn8E"
      },
      "source": [
        "## Q3.1 Building Word2Vec embeddings \n",
        "\n",
        "We'll start with word embeddings (i.e. word vectors) of size 50 - which means that the full co-occurrence matrix is compressed into a lower dimensionality - but dimensions carry more information than they do in the sparse matrix, and double the window size to 4. Depending on your machine, **training the models might take between 5 and 10 minutes each**. \n",
        "\n",
        "Use the code given here to train two models, one for each of the time period corpora.\n",
        "\n",
        "Again, check the 15 most similar words to 'war' in both corpora, and determine the cosine similarity between the word pairs 'fight' and 'sword' in the two different corpora. Report what you find.\n",
        "\n"
      ]
    },
    {
      "cell_type": "code",
      "metadata": {
        "id": "tHW61kzKrDtL",
        "colab": {
          "base_uri": "https://localhost:8080/"
        },
        "outputId": "8363fb08-d58f-4cf1-8c03-f84b93ba118d"
      },
      "source": [
        "!pip install --upgrade gensim"
      ],
      "execution_count": null,
      "outputs": [
        {
          "output_type": "stream",
          "text": [
            "Requirement already satisfied: gensim in /usr/local/lib/python3.7/dist-packages (3.6.0)\n",
            "Collecting gensim\n",
            "  Downloading gensim-4.0.1-cp37-cp37m-manylinux1_x86_64.whl (23.9 MB)\n",
            "\u001b[K     |████████████████████████████████| 23.9 MB 99 kB/s \n",
            "\u001b[?25hRequirement already satisfied: smart-open>=1.8.1 in /usr/local/lib/python3.7/dist-packages (from gensim) (5.1.0)\n",
            "Requirement already satisfied: scipy>=0.18.1 in /usr/local/lib/python3.7/dist-packages (from gensim) (1.4.1)\n",
            "Requirement already satisfied: numpy>=1.11.3 in /usr/local/lib/python3.7/dist-packages (from gensim) (1.19.5)\n",
            "Installing collected packages: gensim\n",
            "  Attempting uninstall: gensim\n",
            "    Found existing installation: gensim 3.6.0\n",
            "    Uninstalling gensim-3.6.0:\n",
            "      Successfully uninstalled gensim-3.6.0\n",
            "Successfully installed gensim-4.0.1\n"
          ],
          "name": "stdout"
        }
      ]
    },
    {
      "cell_type": "code",
      "metadata": {
        "id": "sVadCbGnqwVb",
        "colab": {
          "base_uri": "https://localhost:8080/"
        },
        "outputId": "ec412826-94f8-4dde-cecc-affe1ad97573"
      },
      "source": [
        "import gensim\n",
        "from gensim.models import Word2Vec"
      ],
      "execution_count": null,
      "outputs": [
        {
          "output_type": "stream",
          "text": [
            "/usr/local/lib/python3.7/dist-packages/gensim/similarities/__init__.py:15: UserWarning: The gensim.similarities.levenshtein submodule is disabled, because the optional Levenshtein package <https://pypi.org/project/python-Levenshtein/> is unavailable. Install Levenhstein (e.g. `pip install python-Levenshtein`) to suppress this warning.\n",
            "  warnings.warn(msg)\n"
          ],
          "name": "stderr"
        }
      ]
    },
    {
      "cell_type": "code",
      "metadata": {
        "id": "yn0_npzRqxcI"
      },
      "source": [
        "assert gensim.__version__ == '4.0.1', \"Please run '!pip install --upgrade gensim' to udpate gensim to version 4.0.1\""
      ],
      "execution_count": null,
      "outputs": []
    },
    {
      "cell_type": "code",
      "metadata": {
        "id": "ryjmTei6rNDb"
      },
      "source": [
        "def load_period(file):\n",
        "    start = time.time()\n",
        "    sentences = []\n",
        "    with open(file) as f:\n",
        "        for line in f:\n",
        "            sentences.extend([word_tokenize(s) for s in sent_tokenize(line)])\n",
        "    end = time.time()\n",
        "    \n",
        "    print(\"Processing took {} seconds.\".format(end - start))\n",
        "    print(\"The period contains {} sentences.\".format(len(sentences)))\n",
        "            \n",
        "    return sentences"
      ],
      "execution_count": null,
      "outputs": []
    },
    {
      "cell_type": "code",
      "metadata": {
        "id": "gOMyfMxNqy-y",
        "colab": {
          "base_uri": "https://localhost:8080/"
        },
        "outputId": "70f5bc77-9073-44e7-b023-3c7887e1e191"
      },
      "source": [
        "start = time.time()\n",
        "\n",
        "model_1800 = Word2Vec(sentences=load_period(\"/content/1800.txt\"), vector_size=50, window=2, min_count=1, workers=4)\n",
        "model_1800.save(\"1800_word2vec.model\")\n",
        "\n",
        "end = time.time()\n",
        "print(\"Training the model took {} seconds.\".format(end - start))"
      ],
      "execution_count": null,
      "outputs": [
        {
          "output_type": "stream",
          "text": [
            "Processing took 196.521390914917 seconds.\n",
            "The period contains 965249 sentences.\n",
            "Training the model took 376.47104835510254 seconds.\n"
          ],
          "name": "stdout"
        }
      ]
    },
    {
      "cell_type": "code",
      "metadata": {
        "id": "AJSJeyIYBVby"
      },
      "source": [
        "# Uncomment this line if you want to load a pre-trained model instead of training it again.\n",
        "model_1800 = Word2Vec.load(\"1800_word2vec.model\")"
      ],
      "execution_count": null,
      "outputs": []
    },
    {
      "cell_type": "code",
      "metadata": {
        "id": "AOB7SF5jrxkd",
        "colab": {
          "base_uri": "https://localhost:8080/"
        },
        "outputId": "514be01a-38f6-44eb-e6a6-1e107b41ff11"
      },
      "source": [
        "start = time.time()\n",
        "\n",
        "model_2000 = Word2Vec(sentences=load_period(\"/content/2000_half.txt\"), vector_size=50, window=2, min_count=1, workers=4)\n",
        "model_2000.save(\"2000_word2vec.model\")\n",
        "\n",
        "end = time.time()\n",
        "print(\"Training the model took {} seconds.\".format(end - start))"
      ],
      "execution_count": null,
      "outputs": [
        {
          "output_type": "stream",
          "text": [
            "Processing took 164.59624433517456 seconds.\n",
            "The period contains 950389 sentences.\n",
            "Training the model took 303.1595551967621 seconds.\n"
          ],
          "name": "stdout"
        }
      ]
    },
    {
      "cell_type": "code",
      "metadata": {
        "id": "s_K39GIEBgr-"
      },
      "source": [
        "# Uncomment this line if you want to load a pre-trained model instead of training it again.\n",
        "model_2000 = Word2Vec.load(\"2000_word2vec.model\")"
      ],
      "execution_count": null,
      "outputs": []
    },
    {
      "cell_type": "code",
      "metadata": {
        "id": "A3BrjfMRDZAJ",
        "colab": {
          "base_uri": "https://localhost:8080/"
        },
        "outputId": "9f8d22f8-44c0-4df9-80e0-65da9d0b58f1"
      },
      "source": [
        "# TODO: Determine the 15 words that are most similar to 'war' in the 1800-1840 section\n",
        "w = model_1800.wv.most_similar(['war'], [], 15)\n",
        "print(w)"
      ],
      "execution_count": null,
      "outputs": [
        {
          "output_type": "stream",
          "text": [
            "[('rebellion', 0.7822636365890503), ('contest', 0.7740381956100464), ('struggle', 0.7335736155509949), ('revolution', 0.7302173376083374), ('conflict', 0.7115897536277771), ('wars', 0.7091193795204163), ('revolt', 0.6858429908752441), ('battle', 0.6827458739280701), ('warfare', 0.682500958442688), ('neutrality', 0.6696780323982239), ('insurrection', 0.6645654439926147), ('administration', 0.6595759987831116), ('strife', 0.6573236584663391), ('government', 0.6499524712562561), ('negotiation', 0.6493876576423645)]\n"
          ],
          "name": "stdout"
        }
      ]
    },
    {
      "cell_type": "code",
      "metadata": {
        "id": "7ejH-MEQDZAN",
        "colab": {
          "base_uri": "https://localhost:8080/"
        },
        "outputId": "64ab3a74-006c-4daa-d156-c18dba210793"
      },
      "source": [
        "# TODO: Determine the 15 words that are most similar to 'war' in the 2000-2010 section\n",
        "w = model_2000.wv.most_similar(['war'], [], 15)\n",
        "print(w)"
      ],
      "execution_count": null,
      "outputs": [
        {
          "output_type": "stream",
          "text": [
            "[('battle', 0.8237202167510986), ('crisis', 0.7803723812103271), ('Iraq', 0.7771872878074646), ('debate', 0.7622318863868713), ('conflict', 0.7541713118553162), ('court', 0.7480322122573853), ('dispute', 0.7475731372833252), ('race', 0.7458547949790955), ('trial', 0.7447536587715149), ('government', 0.7431585192680359), ('state', 0.7384852766990662), ('disaster', 0.7288514971733093), ('Afghanistan', 0.7236635684967041), ('military', 0.7150266170501709), ('battlefield', 0.7125157117843628)]\n"
          ],
          "name": "stdout"
        }
      ]
    },
    {
      "cell_type": "code",
      "metadata": {
        "id": "1UxqavV7DZAO",
        "colab": {
          "base_uri": "https://localhost:8080/"
        },
        "outputId": "684c2bad-e86a-486b-b563-a5e7dd359f5c"
      },
      "source": [
        "# TODO: Determine the cosine similarity between the words 'fight' and 'sword' in the 1800-1840 section\n",
        "w = model_1800.wv.similarity('fight','sword')\n",
        "print(w)"
      ],
      "execution_count": null,
      "outputs": [
        {
          "output_type": "stream",
          "text": [
            "0.35993528\n"
          ],
          "name": "stdout"
        }
      ]
    },
    {
      "cell_type": "code",
      "metadata": {
        "id": "LkJBIhz8DZAO",
        "colab": {
          "base_uri": "https://localhost:8080/"
        },
        "outputId": "7da45b2b-b15a-46db-959a-598fd8e8fdf1"
      },
      "source": [
        "# TODO: Determine the cosine similarity between the words 'fight' and 'sword' in the 2000-2010 section\n",
        "w = model_2000.wv.similarity('fight','sword')\n",
        "print(w)"
      ],
      "execution_count": null,
      "outputs": [
        {
          "output_type": "stream",
          "text": [
            "0.3323468\n"
          ],
          "name": "stdout"
        }
      ]
    },
    {
      "cell_type": "markdown",
      "metadata": {
        "id": "QL3szjdnMXyq"
      },
      "source": [
        "## Q3.2 Examining meaning change over time \n",
        "\n",
        "Pick three additional words that you think might have changed their meaning over time, and investigate them using the two models. Note that you **can't directly compare individual embeddings (vectors) between the two different models**, as they are randomly initialised and therefore vectors will not correspond to one another. However, you can always compare pairwise similarities, i.e. the distances between word pairs in the two different corpora.\n",
        "\n",
        "For example, for each of your three words, you could choose two words that are likely to be similar in meaning in the different time periods, and check whether the similarities change as you expect. But don't feel limited by this suggestion - feel free to investigate the similarities however you like.\n"
      ]
    },
    {
      "cell_type": "markdown",
      "metadata": {
        "id": "gB3IdMRbGv9z"
      },
      "source": [
        "**we can choose 3 words: Attack, Battle & Fight**\n"
      ]
    },
    {
      "cell_type": "code",
      "metadata": {
        "id": "4TVRh0MqDZAP",
        "colab": {
          "base_uri": "https://localhost:8080/"
        },
        "outputId": "d3083b40-e56c-43bc-ee13-118b286898a1"
      },
      "source": [
        "# Comparing the words which are similar to ATTACK in the 1800's and 2000's\n",
        "model_1800.wv.most_similar(positive=[\"attack\"], topn = 15)\n",
        "\n"
      ],
      "execution_count": null,
      "outputs": [
        {
          "output_type": "execute_result",
          "data": {
            "text/plain": [
              "[('assault', 0.8933718204498291),\n",
              " ('inspection', 0.7659430503845215),\n",
              " ('expedition', 0.7632918357849121),\n",
              " ('act', 0.7590574026107788),\n",
              " ('issue', 0.7341964840888977),\n",
              " ('experiment', 0.7288033962249756),\n",
              " ('admission', 0.7235120534896851),\n",
              " ('enemy', 0.7159188389778137),\n",
              " ('combat', 0.7094502449035645),\n",
              " ('onset', 0.7093818783760071),\n",
              " ('opposition', 0.7062201499938965),\n",
              " ('execution', 0.6957053542137146),\n",
              " ('arrest', 0.6930030584335327),\n",
              " ('insurrection', 0.6927081942558289),\n",
              " ('trial', 0.692103922367096)]"
            ]
          },
          "metadata": {
            "tags": []
          },
          "execution_count": 40
        }
      ]
    },
    {
      "cell_type": "code",
      "metadata": {
        "colab": {
          "base_uri": "https://localhost:8080/"
        },
        "id": "Jjr5NNLFHNb-",
        "outputId": "4891259b-a88f-4b4e-e975-262321ae6ed4"
      },
      "source": [
        "model_2000.wv.most_similar(positive=[\"attacks\"], topn = 15)"
      ],
      "execution_count": null,
      "outputs": [
        {
          "output_type": "execute_result",
          "data": {
            "text/plain": [
              "[('allegations', 0.746933102607727),\n",
              " ('sanctions', 0.7354673743247986),\n",
              " ('assault', 0.7353775501251221),\n",
              " ('violence', 0.7348802089691162),\n",
              " ('attack', 0.7289848327636719),\n",
              " ('threats', 0.7162365913391113),\n",
              " ('crimes', 0.7121348977088928),\n",
              " ('casualties', 0.710472047328949),\n",
              " ('charges', 0.7098977565765381),\n",
              " ('impacts', 0.7082316279411316),\n",
              " ('disputes', 0.7024964690208435),\n",
              " ('terrorism', 0.698065996170044),\n",
              " ('reforms', 0.6973910331726074),\n",
              " ('debates', 0.6909905076026917),\n",
              " ('regimes', 0.6858128309249878)]"
            ]
          },
          "metadata": {
            "tags": []
          },
          "execution_count": 41
        }
      ]
    },
    {
      "cell_type": "markdown",
      "metadata": {
        "id": "ZuiTeMAXHZCL"
      },
      "source": [
        "**Observation**:\n",
        "\n",
        "As we can observe that in 1800'sthe words which very similar to attack are - assault, inspecttion, expedition.\n",
        "\n",
        "Whereas, \n",
        "\n",
        "As we can observe that in 2000's the words which very similar to attack are - sanctions, threats, attack, crime. \n",
        "\n",
        "We can conculde that words like crime and treats are a bit used in the modern era (2000's) which is quite evident seeing from the top 10 list of similar words. As we know that attack, crime are words which are very commonly used as synonyms and have the similar meaning. Still these synonyms for the word attack are not commonly used in old era (1800s). So yes we can say that the meaniing of this word has evolve over time. \n",
        "\n",
        "In the following section, let us examine how similar the 3 words that we havee choosen are similar to each other w.r.t the time."
      ]
    },
    {
      "cell_type": "markdown",
      "metadata": {
        "id": "mfF79x0BHhGW"
      },
      "source": [
        "Determine the cosine similarity between the words 'attack' and 'battle' in the 1800-1840 section"
      ]
    },
    {
      "cell_type": "code",
      "metadata": {
        "colab": {
          "base_uri": "https://localhost:8080/"
        },
        "id": "ntS4l8rrHabH",
        "outputId": "ad1a8da3-5964-436e-e57f-6ada2809ea0d"
      },
      "source": [
        "cosine_sim_1800_1 = model_1800.wv.similarity('attack', 'battle')\n",
        "print(\"cosine similarity between the words 'attack' and 'battle': \", cosine_sim_1800_1)"
      ],
      "execution_count": null,
      "outputs": [
        {
          "output_type": "stream",
          "text": [
            "cosine similarity between the words 'attack' and 'battle':  0.56481695\n"
          ],
          "name": "stdout"
        }
      ]
    },
    {
      "cell_type": "code",
      "metadata": {
        "colab": {
          "base_uri": "https://localhost:8080/"
        },
        "id": "wpcbzv2RHm9m",
        "outputId": "f87c092d-b5e1-40f2-8a3c-99ce123009b2"
      },
      "source": [
        "cosine_sim_2000_1 = model_2000.wv.similarity('attack', 'battle')\n",
        "print(\"cosine similarity between the words 'attack' and 'battle': \", cosine_sim_2000_1)"
      ],
      "execution_count": null,
      "outputs": [
        {
          "output_type": "stream",
          "text": [
            "cosine similarity between the words 'attack' and 'battle':  0.63953114\n"
          ],
          "name": "stdout"
        }
      ]
    },
    {
      "cell_type": "markdown",
      "metadata": {
        "id": "Fc13lN9PHqAT"
      },
      "source": [
        "**Observation**:\n",
        "As we can observe that in 1800's the similarity betweeen the word attck and battle is only 0.56 whereas the similarity betweeen the word attack and battle in 2000's increased to 0.63. From this we can concluse that the word battle was less similar in the year 1800's but was more similar in the year 2000's and as we know that these words are very similar words were:\n",
        "\n",
        "Attack : an aggressive and violent act against a person or place (mostly used in modern era)\n",
        "\n",
        "Battle is used more in 1800's when there was a violent fight against a group of people."
      ]
    },
    {
      "cell_type": "code",
      "metadata": {
        "colab": {
          "base_uri": "https://localhost:8080/"
        },
        "id": "RxVhV8ZKH1Nw",
        "outputId": "611d48f3-467b-498c-c510-5ffa90ef2f3d"
      },
      "source": [
        "cosine_sim_1800_2 = model_1800.wv.similarity('attack', 'fight')\n",
        "print(\"cosine similarity between the words 'attack' and 'fight': \", cosine_sim_1800_2)"
      ],
      "execution_count": null,
      "outputs": [
        {
          "output_type": "stream",
          "text": [
            "cosine similarity between the words 'attack' and 'fight':  0.55800354\n"
          ],
          "name": "stdout"
        }
      ]
    },
    {
      "cell_type": "code",
      "metadata": {
        "colab": {
          "base_uri": "https://localhost:8080/"
        },
        "id": "ZGsyoGhdH5FY",
        "outputId": "001df753-3ca4-4aa4-c770-166db07525e5"
      },
      "source": [
        "cosine_sim_2000_2 = model_2000.wv.similarity('attack', 'fight')\n",
        "print(\"cosine similarity between the words 'attack' and 'fight': \", cosine_sim_2000_2)"
      ],
      "execution_count": null,
      "outputs": [
        {
          "output_type": "stream",
          "text": [
            "cosine similarity between the words 'attack' and 'fight':  0.6239654\n"
          ],
          "name": "stdout"
        }
      ]
    },
    {
      "cell_type": "markdown",
      "metadata": {
        "id": "YOT83ilzH-Qh"
      },
      "source": [
        "**Observation**:\n",
        "As we can observe that in 1800's the similarity betweeen the word attack and fight is only 0.55 whereas the similarity betweeen the word attack and battle in 2000's increased to 0.62.\n",
        "\n",
        "We can conclude that in both the scenario, attack and fight having the same meaning were having low similarity in 1800's but had more similarities in 2000's.\n",
        "\n"
      ]
    }
  ]
}